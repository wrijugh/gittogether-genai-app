{
    "cells": [
     {
      "cell_type": "markdown",
      "metadata": {},
      "source": [
       "# Deepseek Application "
      ]
     },
     {
      "cell_type": "code",
      "execution_count": null,
      "metadata": {},
      "outputs": [],
      "source": [
       "# ! python3 -m pip install --upgrade pip\n",
       "\n",
       "! pip install azure-ai-inference\n",
       "\n",
       "! pip install python-dotenv"
      ]
     },
     {
      "cell_type": "markdown",
      "metadata": {},
      "source": [
       "## Import Libraries"
      ]
     },
     {
      "cell_type": "code",
      "execution_count": 10,
      "metadata": {},
      "outputs": [],
      "source": [
       "import os\n",
       "from azure.ai.inference import ChatCompletionsClient\n",
       "from azure.ai.inference.models import SystemMessage, UserMessage\n",
       "from azure.core.credentials import AzureKeyCredential\n",
       "from dotenv import load_dotenv"
      ]
     },
     {
      "cell_type": "markdown",
      "metadata": {},
      "source": [
       "## Read the endpoint and keys"
      ]
     },
     {
      "cell_type": "code",
      "execution_count": null,
      "metadata": {},
      "outputs": [],
      "source": [
       "load_dotenv()\n",
       "endpoint = os.getenv(\"DEPLOYMENT_ENDPOINT\")\n",
       "model_name = os.getenv(\"DEPLOYMENT_MODEL_NAME\")\n",
       "token = os.getenv(\"DEPLOYMENT_TOKEN\")\n",
       "\n",
       "print(f\"endpoint: {endpoint}\")"
      ]
     },
     {
      "cell_type": "code",
      "execution_count": 14,
      "metadata": {},
      "outputs": [],
      "source": [
       "client = ChatCompletionsClient(\n",
       "    endpoint=endpoint,\n",
       "    credential=AzureKeyCredential(token),\n",
       ")"
      ]
     },
     {
      "cell_type": "markdown",
      "metadata": {},
      "source": [
       "## Basic "
      ]
     },
     {
      "cell_type": "code",
      "execution_count": null,
      "metadata": {},
      "outputs": [],
      "source": [
       "response = client.complete(\n",
       "    messages=[\n",
       "        UserMessage(content=\"What is the capital of France?\"),\n",
       "    ],\n",
       "    max_tokens=1000,\n",
       "    model=model_name\n",
       ")\n",
       "\n",
       "print(response.choices[0].message.content)"
      ]
     },
     {
      "cell_type": "markdown",
      "metadata": {},
      "source": [
       "## Stream the response"
      ]
     },
     {
      "cell_type": "code",
      "execution_count": null,
      "metadata": {},
      "outputs": [],
      "source": [
       "response = client.complete(\n",
       "    stream=True,\n",
       "    messages=[\n",
       "        UserMessage(content=\"Give me 5 good reasons why I should exercise every day.\"),\n",
       "    ],\n",
       "    model=model_name,\n",
       ")\n",
       "\n",
       "for update in response:\n",
       "    if update.choices:\n",
       "        print(update.choices[0].delta.content or \"\", end=\"\")\n",
       "\n",
       "client.close()"
      ]
     },
     {
      "cell_type": "markdown",
      "metadata": {},
      "source": [
       "## Multi-turn conversation"
      ]
     },
     {
      "cell_type": "code",
      "execution_count": null,
      "metadata": {},
      "outputs": [],
      "source": [
       "from azure.ai.inference.models import AssistantMessage, SystemMessage, UserMessage\n",
       "\n",
       "messages = [\n",
       "    UserMessage(content=\"What is the capital of France?\"),\n",
       "    AssistantMessage(content=\"The capital of France is Paris.\"),\n",
       "    UserMessage(content=\"What about Spain?\"),\n",
       "]\n",
       "\n",
       "response = client.complete(messages=messages, model=model_name)\n",
       "\n",
       "print(response.choices[0].message.content)"
      ]
     }
    ],
    "metadata": {
     "language_info": {
      "name": "python"
     }
    },
    "nbformat": 4,
    "nbformat_minor": 2
   }
   